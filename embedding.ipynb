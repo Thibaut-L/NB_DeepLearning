{
 "cells": [
  {
   "cell_type": "markdown",
   "metadata": {},
   "source": [
    "# Embedding"
   ]
  },
  {
   "cell_type": "markdown",
   "metadata": {},
   "source": [
    "🎯 Se familiariser avec les embeddings"
   ]
  },
  {
   "cell_type": "markdown",
   "metadata": {},
   "source": [
    "# Données"
   ]
  },
  {
   "cell_type": "markdown",
   "metadata": {},
   "source": [
    "Keras met à disposition plusieurs datasets, on va utiliser l'IMDB dataset 🎬:\n",
    "- Chaque document est une ***review d'un film***. \n",
    "- Chaque review est liée à un score donnée par le spectateur"
   ]
  },
  {
   "cell_type": "code",
   "execution_count": 2,
   "metadata": {},
   "outputs": [],
   "source": [
    "from keras import preprocessing \n",
    "import matplotlib.pyplot as plt\n",
    "\n"
   ]
  },
  {
   "cell_type": "code",
   "execution_count": 3,
   "metadata": {},
   "outputs": [
    {
     "name": "stderr",
     "output_type": "stream",
     "text": [
      "/Users/thibautlacroix/miniconda3/envs/Tensorflow/lib/python3.11/site-packages/tqdm/auto.py:21: TqdmWarning: IProgress not found. Please update jupyter and ipywidgets. See https://ipywidgets.readthedocs.io/en/stable/user_install.html\n",
      "  from .autonotebook import tqdm as notebook_tqdm\n"
     ]
    }
   ],
   "source": [
    "###########################################\n",
    "### Charger les données ###\n",
    "###########################################\n",
    "\n",
    "import tensorflow_datasets as tfds\n",
    "from tensorflow.keras.preprocessing.text import text_to_word_sequence\n",
    "\n",
    "\n",
    "def load_data(percentage_of_sentences=None):\n",
    "    train_data, test_data = tfds.load(name=\"imdb_reviews\", split=[\"train\", \"test\"], batch_size=-1, as_supervised=True)\n",
    "\n",
    "    train_sentences, y_train = tfds.as_numpy(train_data)\n",
    "    test_sentences, y_test = tfds.as_numpy(test_data)\n",
    "\n",
    "    # Take only a given percentage of the entire data\n",
    "    if percentage_of_sentences is not None:\n",
    "        assert(percentage_of_sentences> 0 and percentage_of_sentences<=100)\n",
    "\n",
    "        len_train = int(percentage_of_sentences/100*len(train_sentences))\n",
    "        train_sentences, y_train = train_sentences[:len_train], y_train[:len_train]\n",
    "\n",
    "        len_test = int(percentage_of_sentences/100*len(test_sentences))\n",
    "        test_sentences, y_test = test_sentences[:len_test], y_test[:len_test]\n",
    "\n",
    "    X_train = [text_to_word_sequence(_.decode(\"utf-8\")) for _ in train_sentences]\n",
    "    X_test = [text_to_word_sequence(_.decode(\"utf-8\")) for _ in test_sentences]\n",
    "\n",
    "    return X_train, y_train, X_test, y_test\n",
    "\n",
    "X_train, y_train, X_test, y_test = load_data(percentage_of_sentences=10)\n"
   ]
  },
  {
   "cell_type": "markdown",
   "metadata": {},
   "source": [
    "\n",
    "\n",
    "❓ Regarder la forme des données "
   ]
  },
  {
   "cell_type": "code",
   "execution_count": 4,
   "metadata": {
    "tags": [
     "challengify"
    ]
   },
   "outputs": [
    {
     "name": "stdout",
     "output_type": "stream",
     "text": [
      "X_train shape: 2500\n",
      "y_train shape: 2500\n",
      "X_test shape: 2500\n",
      "y_test shape: 2500\n"
     ]
    }
   ],
   "source": [
    "#Fonction pour regarder la forme des données chargées \n",
    "def print_data_shape():\n",
    "    print(\"X_train shape:\", len(X_train))\n",
    "    print(\"y_train shape:\", len(y_train))\n",
    "    print(\"X_test shape:\", len(X_test))\n",
    "    print(\"y_test shape:\", len(y_test))\n",
    "\n",
    "print_data_shape()\n"
   ]
  },
  {
   "cell_type": "markdown",
   "metadata": {},
   "source": [
    "**LABELS**: classification binaire:\n",
    "- label 0️⃣ correspond à une review <font color=red>negative</font> \n",
    "- label 1️⃣ correspond à une review <font color=green>positive</font> \n",
    "\n",
    "**INPUTS**: \n",
    "- 🧹 Les données ont déjà suivi un preprocessing\n",
    "\n",
    "❓ Tokeniser le corpus"
   ]
  },
  {
   "cell_type": "code",
   "execution_count": 5,
   "metadata": {},
   "outputs": [
    {
     "name": "stdout",
     "output_type": "stream",
     "text": [
      "Nombre de mots dans le vocabulaire: 30419\n",
      "Exemple de mots dans le vocabulaire: ['the', 'a', 'and', 'of', 'to', 'is', 'br', 'in', 'i', 'it']\n"
     ]
    }
   ],
   "source": [
    "# Fonction pour tokeniser le corpus \n",
    "\n",
    "def tokenize_corpus(corpus, num_words=None):\n",
    "    tokenizer = preprocessing.text.Tokenizer(num_words=num_words)\n",
    "    tokenizer.fit_on_texts(corpus)\n",
    "    print(\"Nombre de mots dans le vocabulaire:\", len(tokenizer.word_index))\n",
    "    print(\"Exemple de mots dans le vocabulaire:\", list(tokenizer.word_index.keys())[:10])\n",
    "    return tokenizer\n",
    "\n",
    "X_train_token = tokenize_corpus(X_train)\n",
    "\n"
   ]
  },
  {
   "cell_type": "markdown",
   "metadata": {},
   "source": [
    "❓ Imprimer quelques sequences pour observer le résultat"
   ]
  },
  {
   "cell_type": "code",
   "execution_count": 6,
   "metadata": {
    "tags": [
     "challengify"
    ]
   },
   "outputs": [
    {
     "name": "stdout",
     "output_type": "stream",
     "text": [
      "Word : i -> Token 9\n",
      "Word : enjoyed -> Token 579\n",
      "Word : this -> Token 11\n",
      "Word : movie -> Token 18\n",
      "Word : and -> Token 3\n",
      "Word : after -> Token 104\n",
      "Word : watching -> Token 155\n",
      "Word : it -> Token 10\n",
      "Word : it -> Token 10\n",
      "Word : made -> Token 90\n",
      "Word : me -> Token 65\n",
      "Word : wonder -> Token 574\n",
      "Word : just -> Token 40\n",
      "Word : how -> Token 84\n",
      "Word : many -> Token 107\n",
      "Word : 'caitlin -> Token 17238\n",
      "Word : rose's' -> Token 17239\n",
      "Word : exist -> Token 1632\n",
      "Word : in -> Token 8\n",
      "Word : the -> Token 1\n",
      "Word : world -> Token 189\n",
      "Word : how -> Token 84\n",
      "Word : many -> Token 107\n",
      "Word : other -> Token 82\n",
      "Word : girls -> Token 526\n",
      "Word : have -> Token 25\n",
      "Word : been -> Token 76\n",
      "Word : subjected -> Token 5574\n",
      "Word : to -> Token 5\n",
      "Word : this -> Token 11\n",
      "Word : sort -> Token 406\n",
      "Word : of -> Token 4\n",
      "Word : sexual -> Token 991\n",
      "Word : abuse -> Token 2393\n",
      "Word : and -> Token 3\n",
      "Word : torment -> Token 8200\n",
      "Word : by -> Token 31\n",
      "Word : classmates -> Token 7069\n",
      "Word : and -> Token 3\n",
      "Word : have -> Token 25\n"
     ]
    }
   ],
   "source": [
    "sentence_number = 100\n",
    "\n",
    "input_raw = X_train[sentence_number]\n",
    "\n",
    "# Use the `texts_to_sequences` method of the `Tokenizer` object to convert the input sentence to a sequence of tokens\n",
    "input_token = X_train_token.texts_to_sequences([input_raw])[0]\n",
    "\n",
    "for i in range(40):\n",
    "    print(f'Word : {input_raw[i]} -> Token {input_token[i]}')\n"
   ]
  },
  {
   "cell_type": "markdown",
   "metadata": {},
   "source": [
    "Le dictionnaire qui fait le mapping de chaque token est accesible dans `tokenizer.word_index`\n",
    "    \n",
    "❓ Créer une variable `vocab_size` qui contient le nombre de mots differentes dans le corpus d'entraînement."
   ]
  },
  {
   "cell_type": "code",
   "execution_count": 7,
   "metadata": {
    "tags": [
     "challengify"
    ]
   },
   "outputs": [
    {
     "name": "stdout",
     "output_type": "stream",
     "text": [
      "Nombre de mots dans le vocabulaire: 30420\n"
     ]
    }
   ],
   "source": [
    "#Création d'une variable vocab_size qui contient le nombre de mots différents dans le corpus d'entrainement\n",
    "\n",
    "vocab_size = len(X_train_token.word_index) + 1\n",
    "print(\"Nombre de mots dans le vocabulaire:\", vocab_size)"
   ]
  },
  {
   "cell_type": "markdown",
   "metadata": {},
   "source": [
    "Les sequences dans `X_train_token` et `X_test_token` ont des longueurs differentes.\n",
    "\n",
    "<img src=\"padding.png\" alt='Word2Vec' width=\"700px\" />\n",
    "\n",
    "Le padding est necessaire.\n",
    "\n",
    "❓ Utiliser l'utilité de tensor flow pour faire du padding."
   ]
  },
  {
   "cell_type": "code",
   "execution_count": 8,
   "metadata": {
    "tags": [
     "challengify"
    ]
   },
   "outputs": [],
   "source": [
    "#Fonction pour faire du padding en utilisant tensorflow \n",
    "\n",
    "def pad_corpus(corpus, max_length=None):\n",
    "    return preprocessing.sequence.pad_sequences(corpus, maxlen=max_length, padding='post')\n",
    "\n",
    "X_train_pad = pad_corpus(X_train_token.texts_to_sequences(X_train), max_length=100)\n",
    "X_test_pad = pad_corpus(X_train_token.texts_to_sequences(X_test), max_length=100)"
   ]
  },
  {
   "cell_type": "markdown",
   "metadata": {},
   "source": [
    "# RNN"
   ]
  },
  {
   "cell_type": "markdown",
   "metadata": {},
   "source": [
    "❓ Ecrire un modèle avec:\n",
    "- une couche d'embedding, les parametres: `input_dim` est la taille du vocabulaire (= `vocab_size`), et `output_dim` la dimension de l'embedding\n",
    "- une couche RNN (SimpleRNN, LSTM, GRU)\n",
    "- une couche dense\n",
    "- une couche de sortie\n",
    "\n",
    "\n",
    "\n",
    "<details>\n",
    "    <summary>💡 Piste</summary>\n",
    "\n",
    "`input_dim` doit être égal à la taille du vocabulaire + 1 \n",
    "\n",
    "</details>\n",
    "\n",
    "Compiler le modèle"
   ]
  },
  {
   "cell_type": "code",
   "execution_count": 9,
   "metadata": {
    "tags": [
     "challengify"
    ]
   },
   "outputs": [],
   "source": [
    "# Ecrire un modèle avec une couche d'embedding avec un paramètre input_dim est la taille du vocabulaire (=vocab_size) et output_dim est la taille de l'espace de l'embedding des mots (=embedding_dim)\n",
    "#Une couche RNN(simpleRNN,LSTM,GRU)\n",
    "#Une couche Dense avec une activation sigmoid\n",
    "#Une couche de sortie \n",
    "\n",
    "from tensorflow.keras.models import Sequential\n",
    "from tensorflow.keras.layers import Embedding, SimpleRNN, Dense\n",
    "\n",
    "embedding_dim = 100\n",
    "model = Sequential()\n",
    "model.add(Embedding(input_dim=vocab_size, output_dim=embedding_dim))\n",
    "model.add(SimpleRNN(units=32))\n",
    "model.add(Dense(units=1, activation='sigmoid'))\n",
    "\n",
    "\n"
   ]
  },
  {
   "cell_type": "markdown",
   "metadata": {},
   "source": [
    "❓ Regarder le nombre des paramètres dans le modèle "
   ]
  },
  {
   "cell_type": "code",
   "execution_count": 10,
   "metadata": {
    "tags": [
     "challengify"
    ]
   },
   "outputs": [
    {
     "name": "stdout",
     "output_type": "stream",
     "text": [
      "Model: \"sequential\"\n",
      "_________________________________________________________________\n",
      " Layer (type)                Output Shape              Param #   \n",
      "=================================================================\n",
      " embedding (Embedding)       (None, None, 100)         3042000   \n",
      "                                                                 \n",
      " simple_rnn (SimpleRNN)      (None, 32)                4256      \n",
      "                                                                 \n",
      " dense (Dense)               (None, 1)                 33        \n",
      "                                                                 \n",
      "=================================================================\n",
      "Total params: 3046289 (11.62 MB)\n",
      "Trainable params: 3046289 (11.62 MB)\n",
      "Non-trainable params: 0 (0.00 Byte)\n",
      "_________________________________________________________________\n"
     ]
    }
   ],
   "source": [
    "model.summary()"
   ]
  },
  {
   "cell_type": "markdown",
   "metadata": {},
   "source": [
    "❓ Entraîner le modèle avec un early stopping avec patience = 4."
   ]
  },
  {
   "cell_type": "code",
   "execution_count": 11,
   "metadata": {
    "tags": [
     "challengify"
    ]
   },
   "outputs": [
    {
     "name": "stdout",
     "output_type": "stream",
     "text": [
      "Epoch 1/100\n",
      "63/63 [==============================] - 2s 17ms/step - loss: 0.6976 - accuracy: 0.4955 - val_loss: 0.6903 - val_accuracy: 0.5200\n",
      "Epoch 2/100\n",
      "63/63 [==============================] - 1s 15ms/step - loss: 0.4440 - accuracy: 0.9010 - val_loss: 0.7679 - val_accuracy: 0.5040\n",
      "Epoch 3/100\n",
      "63/63 [==============================] - 1s 16ms/step - loss: 0.1316 - accuracy: 0.9810 - val_loss: 0.8068 - val_accuracy: 0.5080\n",
      "Epoch 4/100\n",
      "63/63 [==============================] - 1s 15ms/step - loss: 0.0434 - accuracy: 0.9965 - val_loss: 0.9286 - val_accuracy: 0.5040\n",
      "Epoch 5/100\n",
      "63/63 [==============================] - 1s 14ms/step - loss: 0.0143 - accuracy: 0.9995 - val_loss: 1.0197 - val_accuracy: 0.5000\n"
     ]
    },
    {
     "data": {
      "image/png": "[encoded data removed]",
      "text/plain": [
       "<Figure size 640x480 with 1 Axes>"
      ]
     },
     "metadata": {},
     "output_type": "display_data"
    }
   ],
   "source": [
    "#Entrainer le modèle avec un early stopping avec patience = 4 \n",
    "\n",
    "from tensorflow.keras.callbacks import EarlyStopping\n",
    "\n",
    "model.compile(loss='binary_crossentropy', optimizer='adam', metrics=['accuracy'])\n",
    "history = model.fit(X_train_pad, y_train, epochs=100, batch_size=32, validation_split=0.2, callbacks=[EarlyStopping(patience=4)])\n",
    "\n",
    "#Fonction pour afficher les courbes d'apprentissage\n",
    "\n",
    "def plot_history(history):\n",
    "\n",
    "    plt.plot(history.history['accuracy'], label='accuracy')\n",
    "    plt.plot(history.history['val_accuracy'], label='val_accuracy')\n",
    "    plt.plot(history.history['loss'], label='loss')\n",
    "    plt.plot(history.history['val_loss'], label='val_loss')\n",
    "    plt.legend()\n",
    "    plt.show()\n",
    "\n",
    "plot_history(history)\n"
   ]
  },
  {
   "cell_type": "markdown",
   "metadata": {},
   "source": [
    "❓ Pour essayer d'optimiser le temps d'entraînement, regarder la distribution de la taille de chaque document"
   ]
  },
  {
   "cell_type": "code",
   "execution_count": 13,
   "metadata": {},
   "outputs": [
    {
     "data": {
      "image/png": "[encoded data removed]",
      "text/plain": [
       "<Figure size 640x480 with 1 Axes>"
      ]
     },
     "metadata": {},
     "output_type": "display_data"
    }
   ],
   "source": [
    "import matplotlib.pyplot as plt\n",
    "%matplotlib inline\n",
    "\n",
    "def plot_hist(X):\n",
    "    len_ = [len(_) for _ in X]\n",
    "    plt.hist(len_)\n",
    "    plt.title('Histogram of the number of sentences that have a given number of words')\n",
    "    plt.show()\n",
    "\n",
    "plot_hist(X_train)\n"
   ]
  },
  {
   "cell_type": "markdown",
   "metadata": {},
   "source": [
    "90 - 95% des documents ont moins de 300 mots.\n",
    "\n",
    "Comme on n'a pas spécifié `maxlen` dans le padding le tensor a la dimension egal a la taille du document le plus long. (+1000 mots)\n",
    "\n",
    "<img src=\"tensor_size.png\" alt='Word2Vec' width=\"700px\" />\n",
    "\n",
    "❓ Refaire le padding avec un `maxlen` de 200 et entraîner à nouveau le modèle. Comparer la vitesse d'entraînement et la performance du modèle"
   ]
  },
  {
   "cell_type": "code",
   "execution_count": 14,
   "metadata": {
    "tags": [
     "challengify"
    ]
   },
   "outputs": [
    {
     "name": "stdout",
     "output_type": "stream",
     "text": [
      "Model: \"sequential_1\"\n",
      "_________________________________________________________________\n",
      " Layer (type)                Output Shape              Param #   \n",
      "=================================================================\n",
      " embedding_1 (Embedding)     (None, None, 100)         3042000   \n",
      "                                                                 \n",
      " simple_rnn_1 (SimpleRNN)    (None, 32)                4256      \n",
      "                                                                 \n",
      " dense_1 (Dense)             (None, 1)                 33        \n",
      "                                                                 \n",
      "=================================================================\n",
      "Total params: 3046289 (11.62 MB)\n",
      "Trainable params: 3046289 (11.62 MB)\n",
      "Non-trainable params: 0 (0.00 Byte)\n",
      "_________________________________________________________________\n",
      "Epoch 1/100\n",
      "63/63 [==============================] - 2s 25ms/step - loss: 0.6933 - accuracy: 0.5110 - val_loss: 0.6897 - val_accuracy: 0.5340\n",
      "Epoch 2/100\n",
      "63/63 [==============================] - 1s 23ms/step - loss: 0.5968 - accuracy: 0.6845 - val_loss: 0.7092 - val_accuracy: 0.4880\n",
      "Epoch 3/100\n",
      "63/63 [==============================] - 1s 22ms/step - loss: 0.5031 - accuracy: 0.7465 - val_loss: 0.7097 - val_accuracy: 0.5400\n",
      "Epoch 4/100\n",
      "63/63 [==============================] - 1s 22ms/step - loss: 0.4295 - accuracy: 0.7675 - val_loss: 0.7257 - val_accuracy: 0.5140\n",
      "Epoch 5/100\n",
      "63/63 [==============================] - 1s 22ms/step - loss: 0.3683 - accuracy: 0.8195 - val_loss: 0.7645 - val_accuracy: 0.4900\n"
     ]
    },
    {
     "data": {
      "image/png": "[encoded data removed]",
      "text/plain": [
       "<Figure size 640x480 with 1 Axes>"
      ]
     },
     "metadata": {},
     "output_type": "display_data"
    }
   ],
   "source": [
    "# Refaire le padding avec une maxlen de 200 et entrainer un nouveau modèle \n",
    "\n",
    "X_train_pad = pad_corpus(X_train_token.texts_to_sequences(X_train), max_length=200)\n",
    "X_test_pad = pad_corpus(X_train_token.texts_to_sequences(X_test), max_length=200)\n",
    "\n",
    "embedding_dim = 100\n",
    "model2 = Sequential()\n",
    "model2.add(Embedding(input_dim=vocab_size, output_dim=embedding_dim))\n",
    "model2.add(SimpleRNN(units=32))\n",
    "model2.add(Dense(units=1, activation='sigmoid'))\n",
    "\n",
    "model2.summary()\n",
    "\n",
    "model2.compile(loss='binary_crossentropy', optimizer='adam', metrics=['accuracy'])\n",
    "history2 = model2.fit(X_train_pad, y_train, epochs=100, batch_size=32, validation_split=0.2, callbacks=[EarlyStopping(patience=4)])\n",
    "\n",
    "plot_history(history2)\n",
    "\n",
    "\n"
   ]
  }
 ],
 "metadata": {
  "kernelspec": {
   "display_name": "Python 3",
   "language": "python",
   "name": "python3"
  },
  "language_info": {
   "codemirror_mode": {
    "name": "ipython",
    "version": 3
   },
   "file_extension": ".py",
   "mimetype": "text/x-python",
   "name": "python",
   "nbconvert_exporter": "python",
   "pygments_lexer": "ipython3",
   "version": "3.11.5"
  }
 },
 "nbformat": 4,
 "nbformat_minor": 4
}
