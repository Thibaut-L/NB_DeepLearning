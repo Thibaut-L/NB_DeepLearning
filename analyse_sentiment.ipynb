{
 "cells": [
  {
   "cell_type": "markdown",
   "metadata": {},
   "source": [
    "# Analyse de sentiments avec Word2Vec"
   ]
  },
  {
   "cell_type": "markdown",
   "metadata": {},
   "source": [
    "# Les données"
   ]
  },
  {
   "cell_type": "code",
   "execution_count": null,
   "metadata": {},
   "outputs": [],
   "source": [
    "import numpy as np\n"
   ]
  },
  {
   "cell_type": "code",
   "execution_count": null,
   "metadata": {},
   "outputs": [],
   "source": [
    "###########################################\n",
    "### Just run this cell to load the data ###\n",
    "###########################################\n",
    "\n",
    "import tensorflow_datasets as tfds\n",
    "from tensorflow.keras.preprocessing.text import text_to_word_sequence\n",
    "\n",
    "def load_data(percentage_of_sentences=None):\n",
    "    train_data, test_data = tfds.load(name=\"imdb_reviews\", split=[\"train\", \"test\"], batch_size=-1, as_supervised=True)\n",
    "\n",
    "    train_sentences, y_train = tfds.as_numpy(train_data)\n",
    "    test_sentences, y_test = tfds.as_numpy(test_data)\n",
    "\n",
    "    # Take only a given percentage of the entire data\n",
    "    if percentage_of_sentences is not None:\n",
    "        assert(percentage_of_sentences> 0 and percentage_of_sentences<=100)\n",
    "\n",
    "        len_train = int(percentage_of_sentences/100*len(train_sentences))\n",
    "        train_sentences, y_train = train_sentences[:len_train], y_train[:len_train]\n",
    "\n",
    "        len_test = int(percentage_of_sentences/100*len(test_sentences))\n",
    "        test_sentences, y_test = test_sentences[:len_test], y_test[:len_test]\n",
    "\n",
    "    X_train = [text_to_word_sequence(_.decode(\"utf-8\")) for _ in train_sentences]\n",
    "    X_test = [text_to_word_sequence(_.decode(\"utf-8\")) for _ in test_sentences]\n",
    "\n",
    "    return X_train, y_train, X_test, y_test\n",
    "\n",
    "X_train, y_train, X_test, y_test = load_data(percentage_of_sentences=10)\n"
   ]
  },
  {
   "cell_type": "markdown",
   "metadata": {},
   "source": [
    "Dans l'exercice précédent, vous avez entraîné une représentation Word2vec et converti toutes vos phrases d'entraînement afin de les introduire dans un RNN, comme le montre la première étape de cette figure :\n",
    "\n",
    "<img src=\"word2vec_representation.png\" width=\"400px\" />\n",
    "\n",
    "\n",
    "\n",
    "❓ Refaites exactement ce que vous avez fait dans l'exercice précédent. D'abord, entraînez un modèle word2vec (avec les arguments que vous voulez) sur votre phrase d'entraînement. Enregistrez-le dans la variable `word2vec`."
   ]
  },
  {
   "cell_type": "code",
   "execution_count": null,
   "metadata": {
    "tags": [
     "challengify"
    ]
   },
   "outputs": [],
   "source": []
  },
  {
   "cell_type": "markdown",
   "metadata": {},
   "source": [
    "Réutilisons les fonctions de l'exercice précédent pour convertir vos données d'entraînement et de test en quelque chose que vous pouvez introduire dans un RNN."
   ]
  },
  {
   "cell_type": "code",
   "execution_count": null,
   "metadata": {},
   "outputs": [],
   "source": [
    "from tensorflow.keras.preprocessing.sequence import pad_sequences\n",
    "import numpy as np\n",
    "\n",
    "# Function to convert a sentence (list of words) into a matrix representing the words in the embedding space\n",
    "def embed_sentence(word2vec, sentence):\n",
    "    pass\n",
    "\n",
    "# Function that converts a list of sentences into a list of matrices\n",
    "def embedding(word2vec, sentences):\n",
    "    pass\n",
    "\n",
    "# Embed the training and test sentences\n",
    "\n",
    "\n",
    "\n",
    "# Pad the training and test embedded sentences\n"
   ]
  },
  {
   "cell_type": "markdown",
   "metadata": {},
   "source": [
    "☝️ Pour être sûr que cela a fonctionné, vérifions ce qui suit pour `X_train_pad` et `X_test_pad` :\n",
    "- ce sont des tableaux numpy\n",
    "- ils sont tridimensionnels\n",
    "- la dernière dimension est la taille de votre espace d'embedding word2vec (vous pouvez l'obtenir avec `word2vec.wv.vector_size`)\n",
    "- la première dimension est la taille de vos `X_train` et `X_test`.\n",
    "\n",
    "✅ **Bonne pratique** ✅ De tels tests sont très importants ! Non seulement dans cet exercice, mais dans les applications de la vie réelle. Ils évitent de trouver des erreurs trop tard et de les laisser se propager dans tout le notebook."
   ]
  },
  {
   "cell_type": "code",
   "execution_count": null,
   "metadata": {},
   "outputs": [],
   "source": [
    "# TEST ME\n",
    "for X in [X_train_pad, X_test_pad]:\n",
    "    assert type(X) == np.ndarray\n",
    "    assert X.shape[-1] == word2vec.wv.vector_size\n",
    "\n",
    "\n",
    "assert X_train_pad.shape[0] == len(X_train)\n",
    "assert X_test_pad.shape[0] == len(X_test)\n"
   ]
  },
  {
   "cell_type": "markdown",
   "metadata": {},
   "source": [
    "# Baseline\n",
    "\n",
    "Il est toujours bon d'avoir un modèle très simple pour tester votre propre modèle - pour être sûr que vous faites quelque chose de mieux qu'un algorithme très simple.\n",
    "\n",
    "❓ Quelle est votre accuracy de base ? Dans ce cas, votre base peut être de prédire le label qui est le plus présent dans `y_train` (bien sûr, si le jeu de données est équilibré, la précision de base est 1/n où n est le nombre de classes - 2 ici)."
   ]
  },
  {
   "cell_type": "code",
   "execution_count": null,
   "metadata": {
    "tags": [
     "challengify"
    ]
   },
   "outputs": [],
   "source": []
  },
  {
   "cell_type": "markdown",
   "metadata": {},
   "source": [
    "# Le modèle\n",
    "\n",
    "❓ Créez un RNN avec les couches suivantes :\n",
    "- une couche `Masking`\n",
    "- une `LSTM` avec 20 unités et la fonction d'activation `tanh`.\n",
    "- une couche `Dense` avec 10 unités\n",
    "- une couche de sortie qui dépend de votre tâche (`sigmoid` parce qu'il s'agit d'un problème de classification)\n",
    "\n",
    "Ensuite, compilez votre modèle (utiliser `rmsprop` comme optimiseur - au moins pour commencer)."
   ]
  },
  {
   "cell_type": "code",
   "execution_count": null,
   "metadata": {
    "tags": [
     "challengify"
    ]
   },
   "outputs": [],
   "source": [
    "def init_model():\n",
    "    pass\n"
   ]
  },
  {
   "cell_type": "markdown",
   "metadata": {},
   "source": [
    "❓ Entrainer le modèle sur vos données incorporées et paddées - n'oubliez pas le critère d'arrêt précoce.\n",
    "\n",
    "❗ **Remarque** ❗ Votre précision dépendra grandement de votre corpus d'entraînement. Ici, assurez-vous simplement que votre performance est supérieure au modèle de base (ce qui devrait être le cas même si vous n'avez chargé que 20% des données IMDB initiales)."
   ]
  },
  {
   "cell_type": "code",
   "execution_count": null,
   "metadata": {
    "tags": [
     "challengify"
    ]
   },
   "outputs": [],
   "source": [
    "from tensorflow.keras.callbacks import EarlyStopping\n"
   ]
  },
  {
   "cell_type": "markdown",
   "metadata": {},
   "source": [
    "❓ Évaluer votre modèle sur l'ensemble de test"
   ]
  },
  {
   "cell_type": "code",
   "execution_count": null,
   "metadata": {
    "tags": [
     "challengify"
    ]
   },
   "outputs": [],
   "source": []
  },
  {
   "cell_type": "markdown",
   "metadata": {},
   "source": [
    "# Word2Vec - Transfer Learning\n",
    "\n",
    "Votre précision, bien que supérieure à celle du modèle de base, peut être assez faible. Il existe de nombreuses options pour l'améliorer, comme le nettoyage des données et l'amélioration de la qualité de l'intégration.\n",
    "\n",
    "Nous ne nous pencherons pas ici sur les stratégies de nettoyage des données. Essayons d'améliorer la qualité de notre embedding. Mais au lieu de simplement charger un corpus plus important, pourquoi ne pas profiter de l'embedding que d'autres ont entraîné ? En effet, la qualité d'un embedding, c'est-à-dire la proximité des mots, peut être dérivée de différentes tâches. C'est exactement ce qu'est l'apprentissage par transfert.\n",
    "\n",
    "\n",
    "\n",
    "❓ Lister les différents modèles disponibles dans word2vec grâce à cela :"
   ]
  },
  {
   "cell_type": "code",
   "execution_count": null,
   "metadata": {},
   "outputs": [],
   "source": [
    "import gensim.downloader as api\n",
    "print(list(api.info()['models'].keys()))\n"
   ]
  },
  {
   "cell_type": "markdown",
   "metadata": {},
   "source": [
    "❓ **Question** ❓ Charger un des embeddings de word2vec pré-entraînés. \n",
    "\n",
    "Vous pouvez le faire avec `api.load(the-model-of-your-choice)`, et le stocker dans `word2vec_transfer`\n",
    "\n",
    "<details>\n",
    "    <summary>💡 Piste</summary>\n",
    "    \n",
    "Le modèle `glove-wiki-gigaword-50` est un bon candidat pour commencer car il est plus petit (65 MB).\n",
    "\n",
    "</details>"
   ]
  },
  {
   "cell_type": "code",
   "execution_count": null,
   "metadata": {
    "tags": [
     "challengify"
    ]
   },
   "outputs": [],
   "source": []
  },
  {
   "cell_type": "markdown",
   "metadata": {},
   "source": [
    "❓ Vérifier la taille du vocabulaire, mais aussi la taille de l'espace d'embedding"
   ]
  },
  {
   "cell_type": "code",
   "execution_count": null,
   "metadata": {
    "tags": [
     "challengify"
    ]
   },
   "outputs": [],
   "source": []
  },
  {
   "cell_type": "markdown",
   "metadata": {},
   "source": [
    "❓ Faire l'embedding de `X_train` et `X_test`, comme dans la première question il y a les fonctions pour le faire ! (Il y a une légère différence dans la fonction `embed_sentence_with_TF`)"
   ]
  },
  {
   "cell_type": "code",
   "execution_count": null,
   "metadata": {},
   "outputs": [],
   "source": [
    "# Function to convert a sentence (list of words) into a matrix representing the words in the embedding space\n",
    "def embed_sentence_with_TF(word2vec, sentence):\n",
    "    embedded_sentence = []\n",
    "    for word in sentence:\n",
    "        if word in word2vec:\n",
    "            embedded_sentence.append(word2vec[word])\n",
    "\n",
    "    return np.array(embedded_sentence)\n",
    "\n",
    "# Function that converts a list of sentences into a list of matrices\n",
    "def embedding(word2vec, sentences):\n",
    "    embed = []\n",
    "\n",
    "    for sentence in sentences:\n",
    "        embedded_sentence = embed_sentence_with_TF(word2vec, sentence)\n",
    "        embed.append(embedded_sentence)\n",
    "\n",
    "    return embed\n",
    "\n",
    "# Embed the training and test sentences\n",
    "X_train_embed_2 = embedding(word2vec_transfer, X_train)\n",
    "X_test_embed_2 = embedding(word2vec_transfer, X_test)\n"
   ]
  },
  {
   "cell_type": "markdown",
   "metadata": {},
   "source": [
    "❓ Faire le padding et enregistrer dans `X_train_pad_2` and `X_test_pad_2`."
   ]
  },
  {
   "cell_type": "code",
   "execution_count": null,
   "metadata": {
    "tags": [
     "challengify"
    ]
   },
   "outputs": [],
   "source": []
  },
  {
   "cell_type": "markdown",
   "metadata": {},
   "source": [
    "❓ Réinitialisez un modèle et entraînez-le sur vos nouvelles données !  Évaluez-le sur votre ensemble de test et comparez-le à votre précision précédente.\n",
    "\n",
    "❗ **Remarque** ❗ L'entraînement peut prendre un certain temps. Vous pouvez simplement calculer 10 epochs (ce n'est **pas** une bonne pratique, il s'agit juste de ne pas attendre trop longtemps)."
   ]
  },
  {
   "cell_type": "code",
   "execution_count": null,
   "metadata": {
    "tags": [
     "challengify"
    ]
   },
   "outputs": [],
   "source": [
    "from tensorflow.keras.callbacks import EarlyStopping\n"
   ]
  },
  {
   "cell_type": "code",
   "execution_count": null,
   "metadata": {},
   "outputs": [],
   "source": []
  },
  {
   "cell_type": "markdown",
   "metadata": {},
   "source": [
    "Parce que votre nouveau word2vec a été entraîné sur un grand corpus, il a une représentation pour de nombreux mots ! Bien plus qu'avec votre petit ensemble de données, d'autant plus que vous avez éliminé les mots qui n'étaient pas présents plus d'un certain nombre de fois dans l'ensemble d'entraînement. Pour cette raison, vous avez beaucoup plus de mots intégrés dans vos ensembles de formation et de test, ce qui rend chaque itération plus longue qu'auparavant"
   ]
  }
 ],
 "metadata": {
  "kernelspec": {
   "display_name": "Python 3",
   "language": "python",
   "name": "python3"
  },
  "language_info": {
   "codemirror_mode": {
    "name": "ipython",
    "version": 3
   },
   "file_extension": ".py",
   "mimetype": "text/x-python",
   "name": "python",
   "nbconvert_exporter": "python",
   "pygments_lexer": "ipython3",
   "version": "3.10.12"
  }
 },
 "nbformat": 4,
 "nbformat_minor": 4
}
