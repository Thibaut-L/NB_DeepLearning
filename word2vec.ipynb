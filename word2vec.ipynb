{
 "cells": [
  {
   "cell_type": "markdown",
   "metadata": {},
   "source": [
    "# Word2Vec"
   ]
  },
  {
   "cell_type": "markdown",
   "metadata": {},
   "source": [
    "▶️ Utiliser [Gensim - Word2Vec](https://radimrehurek.com/gensim/auto_examples/index.html) ≥ 4.0!"
   ]
  },
  {
   "cell_type": "code",
   "execution_count": null,
   "metadata": {},
   "outputs": [],
   "source": [
    "!pip freeze | grep gensim\n"
   ]
  },
  {
   "cell_type": "code",
   "execution_count": null,
   "metadata": {},
   "outputs": [],
   "source": [
    "!pip freeze | grep tensorflow\n"
   ]
  },
  {
   "cell_type": "markdown",
   "metadata": {},
   "source": [
    "# Données"
   ]
  },
  {
   "cell_type": "markdown",
   "metadata": {},
   "source": [
    "Keras met à disposition plusieurs datasets, on va utiliser l'IMDB dataset 🎬:\n",
    "- Chaque document est une ***review d'un film***. \n",
    "- Chaque review est liée à un score donnée par le spectateur"
   ]
  },
  {
   "cell_type": "code",
   "execution_count": null,
   "metadata": {},
   "outputs": [],
   "source": [
    "###########################################\n",
    "### Charger les données ###\n",
    "###########################################\n",
    "\n",
    "import tensorflow_datasets as tfds\n",
    "from tensorflow.keras.preprocessing.text import text_to_word_sequence\n",
    "\n",
    "def load_data(percentage_of_sentences=None):\n",
    "    train_data, test_data = tfds.load(name=\"imdb_reviews\", split=[\"train\", \"test\"], batch_size=-1, as_supervised=True)\n",
    "\n",
    "    train_sentences, y_train = tfds.as_numpy(train_data)\n",
    "    test_sentences, y_test = tfds.as_numpy(test_data)\n",
    "\n",
    "    # Take only a given percentage of the entire data\n",
    "    if percentage_of_sentences is not None:\n",
    "        assert(percentage_of_sentences> 0 and percentage_of_sentences<=100)\n",
    "\n",
    "        len_train = int(percentage_of_sentences/100*len(train_sentences))\n",
    "        train_sentences, y_train = train_sentences[:len_train], y_train[:len_train]\n",
    "\n",
    "        len_test = int(percentage_of_sentences/100*len(test_sentences))\n",
    "        test_sentences, y_test = test_sentences[:len_test], y_test[:len_test]\n",
    "\n",
    "    X_train = [text_to_word_sequence(_.decode(\"utf-8\")) for _ in train_sentences]\n",
    "    X_test = [text_to_word_sequence(_.decode(\"utf-8\")) for _ in test_sentences]\n",
    "\n",
    "    return X_train, y_train, X_test, y_test\n",
    "\n",
    "X_train, y_train, X_test, y_test = load_data(percentage_of_sentences=10)\n"
   ]
  },
  {
   "cell_type": "markdown",
   "metadata": {},
   "source": [
    "<img src=\"layers_embedding.png\" width=\"400px\" />\n",
    "\n",
    "L'entraînement de l'embedding ajoute de la complexité et augmente le temps total d'entraînement"
   ]
  },
  {
   "cell_type": "markdown",
   "metadata": {},
   "source": [
    "<img src=\"word2vec_representation.png\" width=\"400px\" />\n",
    "\n",
    "On va tester l'embedding avec Word2Vec.\n",
    "\n",
    "L'inconvenient est que l'embedding n'est pas entrîné specifiquement pour notre tâche,  MAIS, il y a des avantages:\n",
    "- rapidité d'embedding\n",
    "- l'embedding est quand même representatif\n",
    "- la convergence du RNN sera plus rapide et facile"
   ]
  },
  {
   "cell_type": "markdown",
   "metadata": {},
   "source": [
    "# Embedding  avec Word2Vec"
   ]
  },
  {
   "cell_type": "markdown",
   "metadata": {},
   "source": [
    "![Embedding](word_embedding.png)"
   ]
  },
  {
   "cell_type": "markdown",
   "metadata": {},
   "source": [
    "❓ Faire de l'embedding sur le dataset d'entraînement avec word2vec"
   ]
  },
  {
   "cell_type": "code",
   "execution_count": null,
   "metadata": {
    "tags": []
   },
   "outputs": [],
   "source": [
    "from gensim.models import Word2Vec\n"
   ]
  },
  {
   "cell_type": "markdown",
   "metadata": {},
   "source": [
    "❓ Regarder la representation de quelques mots "
   ]
  },
  {
   "cell_type": "code",
   "execution_count": null,
   "metadata": {
    "tags": [
     "challengify"
    ]
   },
   "outputs": [],
   "source": []
  },
  {
   "cell_type": "markdown",
   "metadata": {},
   "source": [
    "❓ Quelle est la dimension de l'embedding?"
   ]
  },
  {
   "cell_type": "code",
   "execution_count": null,
   "metadata": {
    "tags": [
     "challengify"
    ]
   },
   "outputs": [],
   "source": []
  },
  {
   "cell_type": "markdown",
   "metadata": {},
   "source": [
    "🧐 Comment juger la qualité de l'embedding?\n",
    "\n",
    "💡 Regarder si des mots proches semantiquement sont proches dans l'espace vectoriel\n",
    "\n",
    "👉 [**`Word2Vec.wv.most_similar`**](https://radimrehurek.com/gensim/models/keyedvectors.html#gensim.models.keyedvectors.KeyedVectors.most_similar) est une methode qui retourne les mots les plus proches dans l'espace vectoriel à l'input donné"
   ]
  },
  {
   "cell_type": "markdown",
   "metadata": {},
   "source": [
    "❓ Tester la methode `most_similar` en quelques mots"
   ]
  },
  {
   "cell_type": "code",
   "execution_count": null,
   "metadata": {
    "tags": [
     "challengify"
    ]
   },
   "outputs": [],
   "source": []
  },
  {
   "cell_type": "markdown",
   "metadata": {},
   "source": [
    "La méthode [**`similar_by_vector`**](https://radimrehurek.com/gensim/models/keyedvectors.html#gensim.models.keyedvectors.KeyedVectors.similar_by_vector) existe aussi"
   ]
  },
  {
   "cell_type": "code",
   "execution_count": null,
   "metadata": {
    "tags": [
     "challengify"
    ]
   },
   "outputs": [],
   "source": []
  },
  {
   "cell_type": "markdown",
   "metadata": {},
   "source": [
    "# Opérations vectorielles"
   ]
  },
  {
   "cell_type": "markdown",
   "metadata": {},
   "source": [
    "$$W2V(good) - W2V(bad)$$"
   ]
  },
  {
   "cell_type": "markdown",
   "metadata": {},
   "source": [
    "❓ Réaliser cette opération et afficher le résultat"
   ]
  },
  {
   "cell_type": "code",
   "execution_count": null,
   "metadata": {
    "tags": [
     "challengify"
    ]
   },
   "outputs": [],
   "source": [
    "wv['good'] - wv['bad']\n"
   ]
  },
  {
   "cell_type": "markdown",
   "metadata": {},
   "source": [
    "Imaginons que:\n",
    "\n",
    "$$W2V(good) - W2V(bad) = W2V(nice) - W2V(stupid)$$\n",
    "\n",
    "Ce qui est equivalent à:\n",
    "\n",
    "$$W2V(good) - W2V(bad) + W2V(stupid) = W2V(nice)$$"
   ]
  },
  {
   "cell_type": "markdown",
   "metadata": {},
   "source": [
    "❓ Réaliser cette operation et sauvegarder le résultat dans une variable"
   ]
  },
  {
   "cell_type": "code",
   "execution_count": null,
   "metadata": {
    "tags": [
     "challengify"
    ]
   },
   "outputs": [],
   "source": []
  },
  {
   "cell_type": "markdown",
   "metadata": {},
   "source": [
    "❓ Utiliser `similar_by_vector` pour regarder les mots les plus proches dans l'espace vectoriel"
   ]
  },
  {
   "cell_type": "code",
   "execution_count": null,
   "metadata": {
    "tags": [
     "challengify"
    ]
   },
   "outputs": [],
   "source": []
  },
  {
   "cell_type": "markdown",
   "metadata": {},
   "source": [
    "❓ Essayer \n",
    "\n",
    "$$W2V(Boy) - W2V(Girl) = W2V(Man) - W2V(Woman)$$\n",
    "\n",
    "ou \n",
    "\n",
    "$$W2V(Queen) - W2V(King) = W2V(actress) - W2V(actor)$$\n",
    "\n",
    "❗ Si les résultats sont pas parfaites faut pas oublier la taille du corpus"
   ]
  },
  {
   "cell_type": "code",
   "execution_count": null,
   "metadata": {
    "tags": [
     "challengify"
    ]
   },
   "outputs": [],
   "source": []
  },
  {
   "cell_type": "markdown",
   "metadata": {},
   "source": [
    "# Hyperparametres"
   ]
  },
  {
   "cell_type": "markdown",
   "metadata": {},
   "source": [
    "❓ `vector_size` correspond à la dimension de l'embedding. Entraîner un nouveau modèle `word2vec_2` avec `X_train` mais avec `vector_size` différent."
   ]
  },
  {
   "cell_type": "code",
   "execution_count": null,
   "metadata": {
    "tags": [
     "challengify"
    ]
   },
   "outputs": [],
   "source": []
  },
  {
   "cell_type": "markdown",
   "metadata": {},
   "source": [
    "❓ Utiliser **`Word2Vec.wv.key_to_index`** pour afficher la taille du vocabulaire appris. Compare avec les mots en `X_train`."
   ]
  },
  {
   "cell_type": "code",
   "execution_count": null,
   "metadata": {
    "tags": [
     "challengify"
    ]
   },
   "outputs": [],
   "source": []
  },
  {
   "cell_type": "markdown",
   "metadata": {},
   "source": [
    "Il y a une différence importante entre le nombre de mots dans les phrases d'entraînement et dans le vocabulaire de Word2Vec, même si ce dernier a été entraîné sur l'ensemble des phrases d'entraînement. La raison vient du deuxième hyperparamètre important de Word2Vec : `min_count`. \n",
    "\n",
    "`min_count` est un entier qui vous indique combien d'occurrences un mot donné doit avoir pour être appris dans l'espace d'intégration. Par exemple, disons que le mot \"movie\" apparaît 1000 fois dans le corpus et \"simba\" seulement 2 fois. Si `min_count=3`, le mot \"simba\" sera ignoré pendant l'apprentissage.\n",
    "\n",
    "L'objectif est d'apprendre une représentation des mots qui sont suffisamment présents dans le corpus pour avoir une représentation intégrée robuste.\n",
    "\n",
    "Traduit avec www.DeepL.com/Translator (version gratuite)"
   ]
  },
  {
   "cell_type": "markdown",
   "metadata": {},
   "source": [
    "❓ Apprenez un nouveau modèle `word2vec_3` avec un `min_count` supérieur à 5 (qui est la valeur par défaut) et un `word2vec_4` avec un `min_count` inférieur à 5, puis comparez la taille du vocabulaire pour tous les différents `word2vec` que vous avez appris (vous pouvez choisir n'importe quelle `vector_size`)."
   ]
  },
  {
   "cell_type": "code",
   "execution_count": null,
   "metadata": {
    "tags": [
     "challengify"
    ]
   },
   "outputs": [],
   "source": []
  },
  {
   "cell_type": "markdown",
   "metadata": {},
   "source": [
    "Rappelons que Word2Vec dispose d'un réseau neuronal interne qui est optimisé sur la base de certaines prédictions. Ces prédictions correspondent en fait à la prédiction d'un mot en fonction des mots environnants. Les mots environnants se trouvent dans une \"fenêtre\" qui correspond au nombre de mots pris en compte. Vous pouvez entraîner Word2Vec avec différentes tailles de \"fenêtres\"."
   ]
  },
  {
   "cell_type": "markdown",
   "metadata": {},
   "source": [
    "❓ Entraîner un nouveau modèle `word2vec_5` avec une `fenêtre` différente de la précédente (la valeur par défaut est 5)."
   ]
  },
  {
   "cell_type": "code",
   "execution_count": null,
   "metadata": {
    "tags": [
     "challengify"
    ]
   },
   "outputs": [],
   "source": []
  },
  {
   "cell_type": "markdown",
   "metadata": {},
   "source": [
    "Les arguments que vous avez vu (`vector_size`, `min_count` et `window`) sont généralement ceux avec lesquels vous devriez commencer à jouer pour obtenir de meilleures performances pour votre modèle.\n",
    "\n",
    "Mais vous pouvez aussi regarder d'autres arguments dans la [**📚 Documentation - gensim.models.word2vec.Text8Corpus**](https://radimrehurek.com/gensim/models/word2vec.html#gensim.models.word2vec.Text8Corpus)"
   ]
  },
  {
   "cell_type": "markdown",
   "metadata": {},
   "source": [
    "# Convertir nos ensembles d'entraînement et de test en ensembles de données prêts pour le RNN"
   ]
  },
  {
   "cell_type": "markdown",
   "metadata": {},
   "source": [
    "Rappelez-vous que `Word2Vec` est la première étape du processus global d'introduction d'une telle représentation dans un RNN, comme illustré ici :\n",
    "\n",
    "<img src=\"word2vec_representation.png\" width=\"400px\" />\n",
    "\n",
    "\n",
    "\n",
    "Passons maintenant à l'étape 2 en convertissant les données d'entraînement et de test en leur représentation vectorielle afin qu'elles soient prêtes à être introduites dans les RNN.\n",
    "\n",
    "❓ Maintenant, écrire une fonction qui, étant donné une phrase, renvoie une matrice qui correspond à l'embedding de la phrase complète, ce qui signifie que vous devez intégrer chaque mot l'un après l'autre et concaténer le résultat pour obtenir une matrice 2D (assurez-vous que votre résultat est un tableau NumPy).\n",
    "\n",
    "❗ **Remarque** ❗ Vous remarquerez probablement que certains mots que vous essayez de convertir provoquent des erreurs car ils n'appartiennent pas au dictionnaire :\n",
    "\n",
    "- Pour le test ceci est normal, quelques mots ne seront pas presentes dans les données d'entraînement et donc l'embedding est inconnu.\n",
    "- Pour le train le `min_count` fait que pas tous les mots aient une representation vectorielle.\n",
    "\n",
    "Dans tous les cas, il suffit de sauter les mots manquants ici."
   ]
  },
  {
   "cell_type": "code",
   "execution_count": null,
   "metadata": {},
   "outputs": [],
   "source": [
    "import numpy as np\n",
    "\n",
    "example = ['this', 'movie', 'is', 'the', 'worst', 'action', 'movie', 'ever']\n",
    "example_missing_words = ['this', 'movie', 'is', 'laaaaaaaaaame']\n",
    "\n",
    "def embed_sentence(word2vec, sentence):\n",
    "\n",
    "    pass\n",
    "\n",
    "\n",
    "### Checks\n",
    "embedded_sentence = embed_sentence(word2vec, example)\n",
    "assert(type(embedded_sentence) == np.ndarray)\n",
    "assert(embedded_sentence.shape == (8, 100))\n",
    "\n",
    "embedded_sentence_missing_words = embed_sentence(word2vec, example_missing_words)\n",
    "assert(type(embedded_sentence_missing_words) == np.ndarray)\n",
    "assert(embedded_sentence_missing_words.shape == (3, 100))\n"
   ]
  },
  {
   "cell_type": "markdown",
   "metadata": {},
   "source": [
    "❓ Écrire une fonction qui, étant donné une liste de phrases (chaque phrase étant une liste de mots/chaînes), renvoie une liste de phrases intégrées (chaque phrase est une matrice). Appliquez cette fonction aux phrases de formation et de test\n",
    "\n",
    "💡 _Piste_ : Utiliser la fonction précédente `embed_sentence`"
   ]
  },
  {
   "cell_type": "code",
   "execution_count": null,
   "metadata": {},
   "outputs": [],
   "source": [
    "def embedding(word2vec, sentences):\n",
    "\n",
    "    pass\n",
    "\n",
    "\n",
    "X_train = embedding(word2vec, X_train)\n",
    "X_test = embedding(word2vec, X_test)\n"
   ]
  },
  {
   "cell_type": "markdown",
   "metadata": {},
   "source": [
    "❓ Afin d'avoir des données prêtes à l'emploi, n'oubliez pas le padding de vos séquences afin d'avoir des tenseurs qui peuvent être divisés en lots (de `batch_size`) pendant l'optimisation. Stockez les valeurs paddées dans `X_train_pad` et `X_test_pad`. N'oubliez pas les arguments importants du padding"
   ]
  },
  {
   "cell_type": "code",
   "execution_count": null,
   "metadata": {},
   "outputs": [],
   "source": [
    "\n",
    "from tensorflow.keras.preprocessing.sequence import pad_sequences\n",
    "\n",
    "X_train_pad = pad_sequences(X_train, dtype='float32', padding='post')\n",
    "X_test_pad = pad_sequences(X_test, dtype='float32', padding='post')\n",
    "\n",
    "\n",
    "assert(len(X_train_pad.shape) == 3)\n",
    "assert(len(X_test_pad.shape) == 3)\n",
    "assert(X_train_pad.shape[2] == 100)\n",
    "assert(X_test_pad.shape[2] == 100)\n"
   ]
  }
 ],
 "metadata": {
  "kernelspec": {
   "display_name": "Python 3",
   "language": "python",
   "name": "python3"
  },
  "language_info": {
   "codemirror_mode": {
    "name": "ipython",
    "version": 3
   },
   "file_extension": ".py",
   "mimetype": "text/x-python",
   "name": "python",
   "nbconvert_exporter": "python",
   "pygments_lexer": "ipython3",
   "version": "3.10.12"
  }
 },
 "nbformat": 4,
 "nbformat_minor": 4
}
